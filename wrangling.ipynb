{
 "cells": [
  {
   "cell_type": "markdown",
   "metadata": {},
   "source": [
    "This notebook is about data wrangling, which involves transforming and mapping raw data into a more usable format. Effective wrangling prepares data for analysis and modeling. I will use some made up data, just for demonstrative purposes.  But if you want to see how this can be handled, I also have a repository on how to use Reddit API, clean and analyze the data. You can also look at the repository for the Agent-Based Model(ABM) on Human and Generative AI interactions as I also wrangle some of the output of the ABM to get it prepared and begin to analyze using some models non-linear analysis.\n"
   ]
  },
  {
   "cell_type": "markdown",
   "metadata": {},
   "source": [
    "#Transform our data\n",
    "-------------------\n",
    "\n",
    "Let's first handle Data Transformation"
   ]
  },
  {
   "cell_type": "code",
   "execution_count": 3,
   "metadata": {},
   "outputs": [
    {
     "name": "stdout",
     "output_type": "stream",
     "text": [
      "Original DataFrame:\n",
      "       Product  Price  Quantity\n",
      "0  Solar Panel    250        10\n",
      "1     Inverter    500         5\n",
      "2      Battery    300         8\n",
      "3  Solar Panel    450         7\n",
      "\n",
      "Transformed Data:\n",
      "[[-1.21267813  1.38675049  0.          1.        ]\n",
      " [ 1.21267813 -1.38675049  1.          0.        ]\n",
      " [-0.72760688  0.2773501   0.          0.        ]\n",
      " [ 0.72760688 -0.2773501   0.          1.        ]]\n"
     ]
    }
   ],
   "source": [
    "from sklearn.preprocessing import StandardScaler, OneHotEncoder\n",
    "from sklearn.compose import ColumnTransformer\n",
    "from sklearn.pipeline import Pipeline\n",
    "import pandas as pd\n",
    "\n",
    "# Sample DataFrame\n",
    "data = {\n",
    "    'Product': ['Solar Panel', 'Inverter', 'Battery', 'Solar Panel'],\n",
    "    'Price': [250, 500, 300, 450],\n",
    "    'Quantity': [10, 5, 8, 7]\n",
    "}\n",
    "df_transform = pd.DataFrame(data)\n",
    "print(\"Original DataFrame:\")\n",
    "print(df_transform)\n",
    "\n",
    "# Define transformations\n",
    "numeric_features = ['Price', 'Quantity']\n",
    "numeric_transformer = StandardScaler()\n",
    "\n",
    "categorical_features = ['Product']\n",
    "categorical_transformer = OneHotEncoder(drop='first')  # Avoid dummy variable trap\n",
    "\n",
    "# Create ColumnTransformer\n",
    "preprocessor = ColumnTransformer(\n",
    "    transformers=[\n",
    "        ('num', numeric_transformer, numeric_features),\n",
    "        ('cat', categorical_transformer, categorical_features)\n",
    "    ])\n",
    "\n",
    "# Apply transformations\n",
    "df_transformed = preprocessor.fit_transform(df_transform)\n",
    "print(\"\\nTransformed Data:\")\n",
    "print(df_transformed)\n"
   ]
  },
  {
   "cell_type": "markdown",
   "metadata": {},
   "source": [
    "#Merge Data\n",
    "------------\n",
    "Sometimes we also need to merge/join dataframes if we have multiple dataframes, or if we have csv files, xlsx files, to tsv files"
   ]
  },
  {
   "cell_type": "code",
   "execution_count": 4,
   "metadata": {},
   "outputs": [
    {
     "name": "stdout",
     "output_type": "stream",
     "text": [
      "Orders DataFrame:\n",
      "   OrderID      Product  Quantity\n",
      "0      101  Solar Panel        10\n",
      "1      102     Inverter         5\n",
      "2      103      Battery         8\n",
      "\n",
      "Prices DataFrame:\n",
      "       Product  Price\n",
      "0  Solar Panel    250\n",
      "1     Inverter    500\n",
      "2      Battery    300\n",
      "\n",
      "Merged DataFrame:\n",
      "   OrderID      Product  Quantity  Price\n",
      "0      101  Solar Panel        10    250\n",
      "1      102     Inverter         5    500\n",
      "2      103      Battery         8    300\n"
     ]
    }
   ],
   "source": [
    "# Sample DataFrames\n",
    "df_orders = pd.DataFrame({\n",
    "    'OrderID': [101, 102, 103],\n",
    "    'Product': ['Solar Panel', 'Inverter', 'Battery'],\n",
    "    'Quantity': [10, 5, 8]\n",
    "})\n",
    "\n",
    "df_prices = pd.DataFrame({\n",
    "    'Product': ['Solar Panel', 'Inverter', 'Battery'],\n",
    "    'Price': [250, 500, 300]\n",
    "})\n",
    "\n",
    "print(\"Orders DataFrame:\")\n",
    "print(df_orders)\n",
    "print(\"\\nPrices DataFrame:\")\n",
    "print(df_prices)\n",
    "\n",
    "# Merging DataFrames on 'Product'\n",
    "df_merged = pd.merge(df_orders, df_prices, on='Product', how='left')\n",
    "print(\"\\nMerged DataFrame:\")\n",
    "print(df_merged)\n"
   ]
  },
  {
   "cell_type": "markdown",
   "metadata": {},
   "source": [
    "#Aggregate Data\n",
    "---------------\n",
    "\n",
    "We also quite frequently want to aggregate the data, which involves summarizing different data points to get meaningful insights, such as total sales per product."
   ]
  },
  {
   "cell_type": "code",
   "execution_count": 5,
   "metadata": {},
   "outputs": [
    {
     "name": "stdout",
     "output_type": "stream",
     "text": [
      "Original DataFrame:\n",
      "   OrderID      Product  Quantity  Price\n",
      "0      101  Solar Panel        10    250\n",
      "1      102     Inverter         5    500\n",
      "2      103      Battery         8    300\n",
      "3      104  Solar Panel         7    250\n",
      "4      105      Battery         6    300\n",
      "\n",
      "Total Sales per Product:\n",
      "       Product  Total_Sales\n",
      "0      Battery         4200\n",
      "1     Inverter         2500\n",
      "2  Solar Panel         4250\n"
     ]
    }
   ],
   "source": [
    "# Sample DataFrame\n",
    "data = {\n",
    "    'OrderID': [101, 102, 103, 104, 105],\n",
    "    'Product': ['Solar Panel', 'Inverter', 'Battery', 'Solar Panel', 'Battery'],\n",
    "    'Quantity': [10, 5, 8, 7, 6],\n",
    "    'Price': [250, 500, 300, 250, 300]\n",
    "}\n",
    "df_aggregate = pd.DataFrame(data)\n",
    "\n",
    "print(\"Original DataFrame:\")\n",
    "print(df_aggregate)\n",
    "\n",
    "# Aggregating total sales per product\n",
    "df_aggregate['Total_Sales'] = df_aggregate['Quantity'] * df_aggregate['Price']\n",
    "sales_summary = df_aggregate.groupby('Product')['Total_Sales'].sum().reset_index()\n",
    "\n",
    "print(\"\\nTotal Sales per Product:\")\n",
    "print(sales_summary)\n"
   ]
  },
  {
   "cell_type": "markdown",
   "metadata": {},
   "source": [
    "#Reshaping Data\n",
    "---------------\n",
    "\n",
    "Lastly, Reshaping our data into a proper format either for analysis in certain machine learning models or for visual purposes. This transformation of the structure basically enables different perspectives for analysis, such as pivoting data from long to wide format."
   ]
  },
  {
   "cell_type": "code",
   "execution_count": 6,
   "metadata": {},
   "outputs": [
    {
     "name": "stdout",
     "output_type": "stream",
     "text": [
      "Long Format DataFrame:\n",
      "         Date      Product  Sales\n",
      "0  2024-01-01  Solar Panel     10\n",
      "1  2024-01-01     Inverter      5\n",
      "2  2024-01-02  Solar Panel      7\n",
      "3  2024-01-02     Inverter      3\n",
      "\n",
      "Wide Format DataFrame:\n",
      "Product     Inverter  Solar Panel\n",
      "Date                             \n",
      "2024-01-01         5           10\n",
      "2024-01-02         3            7\n"
     ]
    }
   ],
   "source": [
    "# Sample DataFrame in long format\n",
    "data = {\n",
    "    'Date': ['2024-01-01', '2024-01-01', '2024-01-02', '2024-01-02'],\n",
    "    'Product': ['Solar Panel', 'Inverter', 'Solar Panel', 'Inverter'],\n",
    "    'Sales': [10, 5, 7, 3]\n",
    "}\n",
    "df_long = pd.DataFrame(data)\n",
    "print(\"Long Format DataFrame:\")\n",
    "print(df_long)\n",
    "\n",
    "# Pivoting to wide format\n",
    "df_wide = df_long.pivot(index='Date', columns='Product', values='Sales').fillna(0)\n",
    "print(\"\\nWide Format DataFrame:\")\n",
    "print(df_wide)\n"
   ]
  }
 ],
 "metadata": {
  "kernelspec": {
   "display_name": "base",
   "language": "python",
   "name": "python3"
  },
  "language_info": {
   "codemirror_mode": {
    "name": "ipython",
    "version": 3
   },
   "file_extension": ".py",
   "mimetype": "text/x-python",
   "name": "python",
   "nbconvert_exporter": "python",
   "pygments_lexer": "ipython3",
   "version": "3.11.4"
  }
 },
 "nbformat": 4,
 "nbformat_minor": 2
}
